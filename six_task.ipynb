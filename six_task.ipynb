{
  "nbformat": 4,
  "nbformat_minor": 0,
  "metadata": {
    "colab": {
      "private_outputs": true,
      "provenance": [],
      "authorship_tag": "ABX9TyMTGAlraWhC+oULRKcwDWYg",
      "include_colab_link": true
    },
    "kernelspec": {
      "name": "python3",
      "display_name": "Python 3"
    },
    "language_info": {
      "name": "python"
    }
  },
  "cells": [
    {
      "cell_type": "markdown",
      "metadata": {
        "id": "view-in-github",
        "colab_type": "text"
      },
      "source": [
        "<a href=\"https://colab.research.google.com/github/valixonov04/my_python_lesson-/blob/main/six_task.ipynb\" target=\"_parent\"><img src=\"https://colab.research.google.com/assets/colab-badge.svg\" alt=\"Open In Colab\"/></a>"
      ]
    },
    {
      "cell_type": "markdown",
      "source": [
        "**1.**"
      ],
      "metadata": {
        "id": "NhYuJGaXRSpY"
      }
    },
    {
      "cell_type": "code",
      "execution_count": null,
      "metadata": {
        "id": "Ts_wecfTP8sA"
      },
      "outputs": [],
      "source": [
        "import numpy as np"
      ]
    },
    {
      "cell_type": "code",
      "source": [
        "import pandas as pd"
      ],
      "metadata": {
        "id": "vnI1gVpmQbzA"
      },
      "execution_count": null,
      "outputs": []
    },
    {
      "cell_type": "code",
      "source": [
        "file_data = pd.read_csv(\"/content/BostonHousing.csv\")\n",
        "file_data"
      ],
      "metadata": {
        "id": "Dx2e7EAGQiOu"
      },
      "execution_count": null,
      "outputs": []
    },
    {
      "cell_type": "markdown",
      "source": [
        "2"
      ],
      "metadata": {
        "id": "H1fH7BK_RbPY"
      }
    },
    {
      "cell_type": "code",
      "source": [
        "list_bir = [1,2,3,4,5,6,7,8,9]\n",
        "series_bir =pd.Series(list_bir)\n",
        "series_bir"
      ],
      "metadata": {
        "id": "FAMCR6WyQ8hA"
      },
      "execution_count": null,
      "outputs": []
    },
    {
      "cell_type": "markdown",
      "source": [
        "3"
      ],
      "metadata": {
        "id": "wPnDzYd2R0zg"
      }
    },
    {
      "cell_type": "code",
      "source": [
        "df =pd.DataFrame(file_data)\n",
        "df"
      ],
      "metadata": {
        "id": "sUzK0XcHRuIB"
      },
      "execution_count": null,
      "outputs": []
    },
    {
      "cell_type": "markdown",
      "source": [
        "4"
      ],
      "metadata": {
        "id": "r4_OBCv9SG1A"
      }
    },
    {
      "cell_type": "code",
      "source": [
        "df_bir = pd.DataFrame.from_dict(file_data)"
      ],
      "metadata": {
        "id": "umJZzLDcSCLA"
      },
      "execution_count": null,
      "outputs": []
    },
    {
      "cell_type": "code",
      "source": [
        "df_bir"
      ],
      "metadata": {
        "id": "qjHwG7SBSg8R"
      },
      "execution_count": null,
      "outputs": []
    },
    {
      "cell_type": "markdown",
      "source": [
        "5"
      ],
      "metadata": {
        "id": "KXB4aXtcS-Y4"
      }
    },
    {
      "cell_type": "code",
      "source": [
        "df.head(10)"
      ],
      "metadata": {
        "id": "UTq_3dWgSief"
      },
      "execution_count": null,
      "outputs": []
    },
    {
      "cell_type": "markdown",
      "source": [
        "6"
      ],
      "metadata": {
        "id": "TYrO6bhOTHcv"
      }
    },
    {
      "cell_type": "code",
      "source": [
        "df.tail(10)"
      ],
      "metadata": {
        "id": "roJ3Tp_zTGRR"
      },
      "execution_count": null,
      "outputs": []
    },
    {
      "cell_type": "markdown",
      "source": [
        "7"
      ],
      "metadata": {
        "id": "f7fPrsFwTQn4"
      }
    },
    {
      "cell_type": "code",
      "source": [
        "df.info()"
      ],
      "metadata": {
        "id": "_ZuPpyU8TNDf"
      },
      "execution_count": null,
      "outputs": []
    },
    {
      "cell_type": "markdown",
      "source": [
        "8"
      ],
      "metadata": {
        "id": "Z9w0gQnjTV_f"
      }
    },
    {
      "cell_type": "code",
      "source": [
        "df.describe()"
      ],
      "metadata": {
        "id": "CzjPvmezTT2f"
      },
      "execution_count": null,
      "outputs": []
    },
    {
      "cell_type": "markdown",
      "source": [
        "9"
      ],
      "metadata": {
        "id": "Og4M_aZnTeIH"
      }
    },
    {
      "cell_type": "code",
      "source": [
        "df.shape"
      ],
      "metadata": {
        "id": "dRGq_lGTTbDv"
      },
      "execution_count": null,
      "outputs": []
    },
    {
      "cell_type": "markdown",
      "source": [
        "10"
      ],
      "metadata": {
        "id": "qZ-JWcyeTysY"
      }
    },
    {
      "cell_type": "code",
      "source": [
        "df.columns"
      ],
      "metadata": {
        "id": "YSbMSRsNTiUv"
      },
      "execution_count": null,
      "outputs": []
    },
    {
      "cell_type": "code",
      "source": [],
      "metadata": {
        "id": "CN7-FCMQT3t_"
      },
      "execution_count": null,
      "outputs": []
    },
    {
      "cell_type": "markdown",
      "source": [
        "11"
      ],
      "metadata": {
        "id": "pg1ipCe7T6Uw"
      }
    },
    {
      "cell_type": "code",
      "source": [
        "df.index"
      ],
      "metadata": {
        "id": "33N7jqOHT60P"
      },
      "execution_count": null,
      "outputs": []
    },
    {
      "cell_type": "markdown",
      "source": [
        "12"
      ],
      "metadata": {
        "id": "GJQfkwZ9UHXo"
      }
    },
    {
      "cell_type": "code",
      "source": [
        "df.dtypes"
      ],
      "metadata": {
        "id": "X3Ig6S3lT9B_"
      },
      "execution_count": null,
      "outputs": []
    },
    {
      "cell_type": "markdown",
      "source": [
        "13"
      ],
      "metadata": {
        "id": "TQw6KghEUEhX"
      }
    },
    {
      "cell_type": "code",
      "source": [
        "df[\"tax\"]"
      ],
      "metadata": {
        "id": "iE5iDuwlUDOA"
      },
      "execution_count": null,
      "outputs": []
    },
    {
      "cell_type": "markdown",
      "source": [
        "14"
      ],
      "metadata": {
        "id": "HdpqX4NgUOdQ"
      }
    },
    {
      "cell_type": "code",
      "source": [
        "df[[\"rm\",\"age\"]]"
      ],
      "metadata": {
        "id": "ew9brZ8hUMh_"
      },
      "execution_count": null,
      "outputs": []
    },
    {
      "cell_type": "markdown",
      "source": [
        "15"
      ],
      "metadata": {
        "id": "dW30c6kiUXZo"
      }
    },
    {
      "cell_type": "code",
      "source": [
        "df.loc[[100,200,300],[\"rm\",\"age\"]]"
      ],
      "metadata": {
        "id": "uNNgSP39UVyf"
      },
      "execution_count": null,
      "outputs": []
    },
    {
      "cell_type": "markdown",
      "source": [
        "16"
      ],
      "metadata": {
        "id": "5s71caMQUv0o"
      }
    },
    {
      "cell_type": "code",
      "source": [
        "df.sample(3)"
      ],
      "metadata": {
        "id": "qLZVv8hOUtvf"
      },
      "execution_count": null,
      "outputs": []
    },
    {
      "cell_type": "markdown",
      "source": [
        "17"
      ],
      "metadata": {
        "id": "9DZxmRY_U8M4"
      }
    },
    {
      "cell_type": "code",
      "source": [
        "df.isnull()"
      ],
      "metadata": {
        "id": "IoQYGEIDU3Kv"
      },
      "execution_count": null,
      "outputs": []
    },
    {
      "cell_type": "markdown",
      "source": [
        "18"
      ],
      "metadata": {
        "id": "RDiZp5rXVSHb"
      }
    },
    {
      "cell_type": "code",
      "source": [
        "df.notnull()"
      ],
      "metadata": {
        "id": "WzQCMb0XVLjQ"
      },
      "execution_count": null,
      "outputs": []
    },
    {
      "cell_type": "markdown",
      "source": [
        "19"
      ],
      "metadata": {
        "id": "vFF-S7fmVYS4"
      }
    },
    {
      "cell_type": "code",
      "source": [
        "df.dropna()"
      ],
      "metadata": {
        "id": "YBA7PqodVVo_"
      },
      "execution_count": null,
      "outputs": []
    },
    {
      "cell_type": "markdown",
      "source": [
        "20"
      ],
      "metadata": {
        "id": "mlE7kDJvVp6w"
      }
    },
    {
      "cell_type": "code",
      "source": [
        "df.replace()# bu orali bir qiymatlarni almashtirib yuborsak bo'ladi\n"
      ],
      "metadata": {
        "id": "OBn4SQaXVq9f"
      },
      "execution_count": null,
      "outputs": []
    },
    {
      "cell_type": "markdown",
      "source": [
        "21"
      ],
      "metadata": {
        "id": "lk6P0EPUWNvQ"
      }
    },
    {
      "cell_type": "code",
      "source": [
        "df.duplicated()"
      ],
      "metadata": {
        "id": "eQGbSoOBWGmA"
      },
      "execution_count": null,
      "outputs": []
    },
    {
      "cell_type": "markdown",
      "source": [
        "22"
      ],
      "metadata": {
        "id": "le4rfVEWWiaQ"
      }
    },
    {
      "cell_type": "code",
      "source": [
        "df.drop_duplicates()"
      ],
      "metadata": {
        "id": "ikRAI83bWTrg"
      },
      "execution_count": null,
      "outputs": []
    },
    {
      "cell_type": "markdown",
      "source": [
        "25"
      ],
      "metadata": {
        "id": "6iRx_UohcVwl"
      }
    },
    {
      "cell_type": "code",
      "source": [
        "df.sort_values(by = \"rm\")"
      ],
      "metadata": {
        "id": "jcXBUbjocSrW"
      },
      "execution_count": null,
      "outputs": []
    },
    {
      "cell_type": "markdown",
      "source": [
        "26"
      ],
      "metadata": {
        "id": "TC13hO66cqHg"
      }
    },
    {
      "cell_type": "code",
      "source": [
        "df.sort_index()"
      ],
      "metadata": {
        "id": "E-9PikcqclbU"
      },
      "execution_count": null,
      "outputs": []
    },
    {
      "cell_type": "markdown",
      "source": [
        "27"
      ],
      "metadata": {
        "id": "aYa5giLzeDy-"
      }
    },
    {
      "cell_type": "code",
      "source": [
        "df.set_index( keys = \"rm\")"
      ],
      "metadata": {
        "id": "-wNOiHl2chAj"
      },
      "execution_count": null,
      "outputs": []
    },
    {
      "cell_type": "markdown",
      "source": [
        "28"
      ],
      "metadata": {
        "id": "qKwWJ15neaXk"
      }
    },
    {
      "cell_type": "code",
      "source": [
        "  df.drop(0)"
      ],
      "metadata": {
        "id": "Fnw7qGJydE8r"
      },
      "execution_count": null,
      "outputs": []
    },
    {
      "cell_type": "markdown",
      "source": [
        "29"
      ],
      "metadata": {
        "id": "OcKAPplIfzNH"
      }
    },
    {
      "cell_type": "code",
      "source": [
        "df.drop(0)"
      ],
      "metadata": {
        "id": "RIeUUZPVesjk"
      },
      "execution_count": null,
      "outputs": []
    },
    {
      "cell_type": "markdown",
      "source": [
        "30"
      ],
      "metadata": {
        "id": "smcaiINRf1P2"
      }
    },
    {
      "cell_type": "code",
      "source": [
        "df.sum()"
      ],
      "metadata": {
        "id": "g2rgW-vOevGL"
      },
      "execution_count": null,
      "outputs": []
    },
    {
      "cell_type": "code",
      "source": [
        "df.mean()"
      ],
      "metadata": {
        "id": "A7pA-engf616"
      },
      "execution_count": null,
      "outputs": []
    },
    {
      "cell_type": "code",
      "source": [
        "df.median()"
      ],
      "metadata": {
        "id": "DzuwqnQMgK4Y"
      },
      "execution_count": null,
      "outputs": []
    },
    {
      "cell_type": "code",
      "source": [
        "df.min()"
      ],
      "metadata": {
        "id": "KLNOJmH0gcMY"
      },
      "execution_count": null,
      "outputs": []
    },
    {
      "cell_type": "code",
      "source": [
        "df.max()"
      ],
      "metadata": {
        "id": "4gWP6Csdgjwu"
      },
      "execution_count": null,
      "outputs": []
    },
    {
      "cell_type": "code",
      "source": [
        "df.var()"
      ],
      "metadata": {
        "id": "I_r8eRcEgnaU"
      },
      "execution_count": null,
      "outputs": []
    },
    {
      "cell_type": "code",
      "source": [
        "df.count()"
      ],
      "metadata": {
        "id": "OSOPuNj3g7P3"
      },
      "execution_count": null,
      "outputs": []
    },
    {
      "cell_type": "code",
      "source": [
        "df.corr()"
      ],
      "metadata": {
        "id": "Ia8oX31PhAth"
      },
      "execution_count": null,
      "outputs": []
    },
    {
      "cell_type": "markdown",
      "source": [
        "40"
      ],
      "metadata": {
        "id": "d-kUWoS1hvdK"
      }
    },
    {
      "cell_type": "code",
      "source": [
        "print(df.groupby(by = \"crim\"))"
      ],
      "metadata": {
        "id": "Z50f8so3hEUn"
      },
      "execution_count": null,
      "outputs": []
    },
    {
      "cell_type": "markdown",
      "source": [
        "41"
      ],
      "metadata": {
        "id": "V3zueoVHh0Ok"
      }
    },
    {
      "cell_type": "code",
      "source": [],
      "metadata": {
        "id": "nL310NJ3hR8D"
      },
      "execution_count": null,
      "outputs": []
    },
    {
      "cell_type": "markdown",
      "source": [],
      "metadata": {
        "id": "fqLWC6Ayhu2S"
      }
    }
  ]
}